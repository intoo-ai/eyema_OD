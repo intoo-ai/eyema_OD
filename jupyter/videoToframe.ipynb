{
 "cells": [
  {
   "cell_type": "markdown",
   "metadata": {},
   "source": [
    "# convert video to frames"
   ]
  },
  {
   "cell_type": "code",
   "execution_count": 2,
   "metadata": {},
   "outputs": [
    {
     "name": "stdout",
     "output_type": "stream",
     "text": [
      "Frames extracted successfully. Total frames: 2356\n"
     ]
    }
   ],
   "source": [
    "import os\n",
    "import cv2\n",
    "\n",
    "# Open the video file\n",
    "video_path = '/Users/miladsoleymani/Desktop/eyema_OD/dataset/videos/Car Traffic.mp4'\n",
    "cap = cv2.VideoCapture(video_path)\n",
    "\n",
    "# Check if the video opened successfully\n",
    "if not cap.isOpened():\n",
    "    print(\"Error opening video file\")\n",
    "\n",
    "# Create a directory to save frames\n",
    "output_directory = '/Users/miladsoleymani/Desktop/eyema_OD/dataset/images'\n",
    "os.makedirs(output_directory, exist_ok=True)\n",
    "\n",
    "# Read and save frames\n",
    "frame_count = 0\n",
    "while True:\n",
    "    ret, frame = cap.read()\n",
    "\n",
    "    # Break the loop if the video is over\n",
    "    if not ret:\n",
    "        break\n",
    "\n",
    "    # Save the frame\n",
    "    frame_count += 1\n",
    "    frame_filename = f\"{output_directory}/frame_{frame_count:04d}.jpg\"\n",
    "    cv2.imwrite(frame_filename, frame)\n",
    "\n",
    "# Release the video capture object\n",
    "cap.release()\n",
    "\n",
    "print(f\"Frames extracted successfully. Total frames: {frame_count}\")\n"
   ]
  },
  {
   "cell_type": "markdown",
   "metadata": {},
   "source": [
    "# convert json to image"
   ]
  },
  {
   "cell_type": "code",
   "execution_count": 4,
   "metadata": {},
   "outputs": [
    {
     "name": "stdout",
     "output_type": "stream",
     "text": [
      "Mask image created successfully at /Users/miladsoleymani/Desktop/eyema_OD/dataset/images/maks/frame_0087.png\n"
     ]
    }
   ],
   "source": [
    "from PIL import Image, ImageDraw\n",
    "import json\n",
    "import os\n",
    "\n",
    "def create_mask_from_json(json_data, output_directory):\n",
    "    # Extract relevant information from JSON\n",
    "    image_path = json_data[\"imagePath\"]\n",
    "    image_width = json_data[\"imageWidth\"]\n",
    "    image_height = json_data[\"imageHeight\"]\n",
    "    shapes = json_data[\"shapes\"]\n",
    "\n",
    "    # Create a blank mask image\n",
    "    mask = Image.new(\"L\", (image_width, image_height), 0)\n",
    "    draw = ImageDraw.Draw(mask)\n",
    "\n",
    "    # Draw the polygon on the mask\n",
    "    for shape in shapes:\n",
    "        label = shape[\"label\"]\n",
    "        points = [(point[0], point[1]) for point in shape[\"points\"]]\n",
    "        draw.polygon(points, outline=1, fill=255)\n",
    "\n",
    "    # Get the base name of the image file (without extension)\n",
    "    base_filename = os.path.splitext(os.path.basename(image_path))[0]\n",
    "\n",
    "    # Specify the output path for the mask image\n",
    "    output_mask_path = os.path.join(output_directory, f\"{base_filename}.png\")\n",
    "\n",
    "    # Save the mask image\n",
    "    mask.save(output_mask_path)\n",
    "\n",
    "    print(f\"Mask image created successfully at {output_mask_path}\")\n",
    "\n",
    "# Load JSON data from your file\n",
    "json_file_path = '/Users/miladsoleymani/Desktop/eyema_OD/dataset/images/jsons/frame_0087.json'  # Replace with your JSON file path\n",
    "with open(json_file_path, 'r') as file:\n",
    "    json_data = json.load(file)\n",
    "\n",
    "# Create a directory to save mask images\n",
    "output_directory = '/Users/miladsoleymani/Desktop/eyema_OD/dataset/images/maks'\n",
    "os.makedirs(output_directory, exist_ok=True)\n",
    "\n",
    "# Create the mask image\n",
    "create_mask_from_json(json_data, output_directory)\n"
   ]
  },
  {
   "cell_type": "code",
   "execution_count": null,
   "metadata": {},
   "outputs": [],
   "source": []
  }
 ],
 "metadata": {
  "kernelspec": {
   "display_name": "env",
   "language": "python",
   "name": "python3"
  },
  "language_info": {
   "codemirror_mode": {
    "name": "ipython",
    "version": 3
   },
   "file_extension": ".py",
   "mimetype": "text/x-python",
   "name": "python",
   "nbconvert_exporter": "python",
   "pygments_lexer": "ipython3",
   "version": "3.10.8"
  }
 },
 "nbformat": 4,
 "nbformat_minor": 2
}
